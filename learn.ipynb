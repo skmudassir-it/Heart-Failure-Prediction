{
 "cells": [
  {
   "cell_type": "code",
   "execution_count": 1,
   "id": "5eed5f27-c65b-412d-b2e0-66d3d93365e2",
   "metadata": {},
   "outputs": [],
   "source": [
    "import pandas as pd\n",
    "import numpy as np\n",
    "import seaborn as sns\n",
    "import matplotlib.pyplot as plt\n",
    "%matplotlib inline"
   ]
  },
  {
   "cell_type": "code",
   "execution_count": 2,
   "id": "3a41871a-0075-493f-a429-76efe02e1e0c",
   "metadata": {},
   "outputs": [],
   "source": [
    "df = pd.read_csv('data.csv')"
   ]
  },
  {
   "cell_type": "code",
   "execution_count": 3,
   "id": "4a9380a1-51bd-4045-9e08-e10b810fae32",
   "metadata": {},
   "outputs": [
    {
     "data": {
      "text/html": [
       "<div>\n",
       "<style scoped>\n",
       "    .dataframe tbody tr th:only-of-type {\n",
       "        vertical-align: middle;\n",
       "    }\n",
       "\n",
       "    .dataframe tbody tr th {\n",
       "        vertical-align: top;\n",
       "    }\n",
       "\n",
       "    .dataframe thead th {\n",
       "        text-align: right;\n",
       "    }\n",
       "</style>\n",
       "<table border=\"1\" class=\"dataframe\">\n",
       "  <thead>\n",
       "    <tr style=\"text-align: right;\">\n",
       "      <th></th>\n",
       "      <th>Age</th>\n",
       "      <th>Sex</th>\n",
       "      <th>ChestPainType</th>\n",
       "      <th>RestingBP</th>\n",
       "      <th>Cholesterol</th>\n",
       "      <th>FastingBS</th>\n",
       "      <th>RestingECG</th>\n",
       "      <th>MaxHR</th>\n",
       "      <th>ExerciseAngina</th>\n",
       "      <th>Oldpeak</th>\n",
       "      <th>ST_Slope</th>\n",
       "      <th>HeartDisease</th>\n",
       "    </tr>\n",
       "  </thead>\n",
       "  <tbody>\n",
       "    <tr>\n",
       "      <th>0</th>\n",
       "      <td>40</td>\n",
       "      <td>M</td>\n",
       "      <td>ATA</td>\n",
       "      <td>140</td>\n",
       "      <td>289</td>\n",
       "      <td>0</td>\n",
       "      <td>Normal</td>\n",
       "      <td>172</td>\n",
       "      <td>N</td>\n",
       "      <td>0.0</td>\n",
       "      <td>Up</td>\n",
       "      <td>0</td>\n",
       "    </tr>\n",
       "    <tr>\n",
       "      <th>1</th>\n",
       "      <td>49</td>\n",
       "      <td>F</td>\n",
       "      <td>NAP</td>\n",
       "      <td>160</td>\n",
       "      <td>180</td>\n",
       "      <td>0</td>\n",
       "      <td>Normal</td>\n",
       "      <td>156</td>\n",
       "      <td>N</td>\n",
       "      <td>1.0</td>\n",
       "      <td>Flat</td>\n",
       "      <td>1</td>\n",
       "    </tr>\n",
       "    <tr>\n",
       "      <th>2</th>\n",
       "      <td>37</td>\n",
       "      <td>M</td>\n",
       "      <td>ATA</td>\n",
       "      <td>130</td>\n",
       "      <td>283</td>\n",
       "      <td>0</td>\n",
       "      <td>ST</td>\n",
       "      <td>98</td>\n",
       "      <td>N</td>\n",
       "      <td>0.0</td>\n",
       "      <td>Up</td>\n",
       "      <td>0</td>\n",
       "    </tr>\n",
       "    <tr>\n",
       "      <th>3</th>\n",
       "      <td>48</td>\n",
       "      <td>F</td>\n",
       "      <td>ASY</td>\n",
       "      <td>138</td>\n",
       "      <td>214</td>\n",
       "      <td>0</td>\n",
       "      <td>Normal</td>\n",
       "      <td>108</td>\n",
       "      <td>Y</td>\n",
       "      <td>1.5</td>\n",
       "      <td>Flat</td>\n",
       "      <td>1</td>\n",
       "    </tr>\n",
       "    <tr>\n",
       "      <th>4</th>\n",
       "      <td>54</td>\n",
       "      <td>M</td>\n",
       "      <td>NAP</td>\n",
       "      <td>150</td>\n",
       "      <td>195</td>\n",
       "      <td>0</td>\n",
       "      <td>Normal</td>\n",
       "      <td>122</td>\n",
       "      <td>N</td>\n",
       "      <td>0.0</td>\n",
       "      <td>Up</td>\n",
       "      <td>0</td>\n",
       "    </tr>\n",
       "  </tbody>\n",
       "</table>\n",
       "</div>"
      ],
      "text/plain": [
       "   Age Sex ChestPainType  RestingBP  Cholesterol  FastingBS RestingECG  MaxHR  \\\n",
       "0   40   M           ATA        140          289          0     Normal    172   \n",
       "1   49   F           NAP        160          180          0     Normal    156   \n",
       "2   37   M           ATA        130          283          0         ST     98   \n",
       "3   48   F           ASY        138          214          0     Normal    108   \n",
       "4   54   M           NAP        150          195          0     Normal    122   \n",
       "\n",
       "  ExerciseAngina  Oldpeak ST_Slope  HeartDisease  \n",
       "0              N      0.0       Up             0  \n",
       "1              N      1.0     Flat             1  \n",
       "2              N      0.0       Up             0  \n",
       "3              Y      1.5     Flat             1  \n",
       "4              N      0.0       Up             0  "
      ]
     },
     "execution_count": 3,
     "metadata": {},
     "output_type": "execute_result"
    }
   ],
   "source": [
    "df.head()"
   ]
  },
  {
   "cell_type": "code",
   "execution_count": 4,
   "id": "493e340a-df04-4422-b775-f05f67b05d42",
   "metadata": {},
   "outputs": [
    {
     "data": {
      "text/plain": [
       "(918, 12)"
      ]
     },
     "execution_count": 4,
     "metadata": {},
     "output_type": "execute_result"
    }
   ],
   "source": [
    "df.shape"
   ]
  },
  {
   "cell_type": "code",
   "execution_count": 5,
   "id": "0e779f15-35d2-4d7d-b231-2fa27afb8f5f",
   "metadata": {},
   "outputs": [
    {
     "name": "stdout",
     "output_type": "stream",
     "text": [
      "<class 'pandas.core.frame.DataFrame'>\n",
      "RangeIndex: 918 entries, 0 to 917\n",
      "Data columns (total 12 columns):\n",
      " #   Column          Non-Null Count  Dtype  \n",
      "---  ------          --------------  -----  \n",
      " 0   Age             918 non-null    int64  \n",
      " 1   Sex             918 non-null    object \n",
      " 2   ChestPainType   918 non-null    object \n",
      " 3   RestingBP       918 non-null    int64  \n",
      " 4   Cholesterol     918 non-null    int64  \n",
      " 5   FastingBS       918 non-null    int64  \n",
      " 6   RestingECG      918 non-null    object \n",
      " 7   MaxHR           918 non-null    int64  \n",
      " 8   ExerciseAngina  918 non-null    object \n",
      " 9   Oldpeak         918 non-null    float64\n",
      " 10  ST_Slope        918 non-null    object \n",
      " 11  HeartDisease    918 non-null    int64  \n",
      "dtypes: float64(1), int64(6), object(5)\n",
      "memory usage: 86.2+ KB\n"
     ]
    }
   ],
   "source": [
    "df.info()"
   ]
  },
  {
   "cell_type": "code",
   "execution_count": 6,
   "id": "3a2a3321-1909-4aa4-8788-9265ff84dc99",
   "metadata": {},
   "outputs": [
    {
     "data": {
      "text/plain": [
       "Age               0\n",
       "Sex               0\n",
       "ChestPainType     0\n",
       "RestingBP         0\n",
       "Cholesterol       0\n",
       "FastingBS         0\n",
       "RestingECG        0\n",
       "MaxHR             0\n",
       "ExerciseAngina    0\n",
       "Oldpeak           0\n",
       "ST_Slope          0\n",
       "HeartDisease      0\n",
       "dtype: int64"
      ]
     },
     "execution_count": 6,
     "metadata": {},
     "output_type": "execute_result"
    }
   ],
   "source": [
    "df.isnull().sum()"
   ]
  },
  {
   "cell_type": "code",
   "execution_count": 7,
   "id": "446ed182-02b7-41fe-b4ce-a1c20489dd65",
   "metadata": {},
   "outputs": [
    {
     "name": "stdout",
     "output_type": "stream",
     "text": [
      "Age   [40 49 37 48 54 39 45 58 42 38 43 60 36 44 53 52 51 56 41 32 65 35 59 50\n",
      " 47 31 46 57 55 63 66 34 33 61 29 62 28 30 74 68 72 64 69 67 73 70 77 75\n",
      " 76 71]\n",
      "Sex   ['M' 'F']\n",
      "ChestPainType   ['ATA' 'NAP' 'ASY' 'TA']\n",
      "RestingBP   [140 160 130 138 150 120 110 136 115 100 124 113 125 145 112 132 118 170\n",
      " 142 190 135 180 108 155 128 106  92 200 122  98 105 133  95  80 137 185\n",
      " 165 126 152 116   0 144 154 134 104 139 131 141 178 146 158 123 102  96\n",
      " 143 172 156 114 127 101 174  94 148 117 192 129 164]\n",
      "Cholesterol   [289 180 283 214 195 339 237 208 207 284 211 164 204 234 273 196 201 248\n",
      " 267 223 184 288 215 209 260 468 188 518 167 224 172 186 254 306 250 177\n",
      " 227 230 294 264 259 175 318 216 340 233 205 245 194 270 213 365 342 253\n",
      " 277 202 297 225 246 412 265 182 218 268 163 529 100 206 238 139 263 291\n",
      " 229 307 210 329 147  85 269 275 179 392 466 129 241 255 276 282 338 160\n",
      " 156 272 240 393 161 228 292 388 166 247 331 341 243 279 198 249 168 603\n",
      " 159 190 185 290 212 231 222 235 320 187 266 287 404 312 251 328 285 280\n",
      " 192 193 308 219 257 132 226 217 303 298 256 117 295 173 315 281 309 200\n",
      " 336 355 326 171 491 271 274 394 221 126 305 220 242 347 344 358 169 181\n",
      "   0 236 203 153 316 311 252 458 384 258 349 142 197 113 261 310 232 110\n",
      " 123 170 369 152 244 165 337 300 333 385 322 564 239 293 407 149 199 417\n",
      " 178 319 354 330 302 313 141 327 304 286 360 262 325 299 409 174 183 321\n",
      " 353 335 278 157 176 131]\n",
      "FastingBS   [0 1]\n",
      "RestingECG   ['Normal' 'ST' 'LVH']\n",
      "MaxHR   [172 156  98 108 122 170 142 130 120  99 145 140 137 150 166 165 125 160\n",
      " 164 138 178 112 118 127 114 154 155  87 148 100 168 184 121 153 134  96\n",
      " 174 175 144  82 135 115 128 116  94 110  92 180 152 124 106 185 139 190\n",
      " 146 158 132 176 119 188 162 105  90 136 167 129 102 143 103  91 126  93\n",
      " 131 149 123 182 141  77 109 133 179 113 104  95  72  97 117  86  63 157\n",
      "  83  60  70 163  67  78  84 111  80 107 161  69  88  73 159 151 181 186\n",
      " 177 173 169 171 147  71 192 195 194 187 202]\n",
      "ExerciseAngina   ['N' 'Y']\n",
      "Oldpeak   [ 0.   1.   1.5  2.   3.   4.   0.5  2.5  5.   0.8  0.7  1.4  2.1  0.4\n",
      "  0.2  1.7  2.2  0.1  1.6  1.3  0.3  1.8  2.6 -0.9  2.8 -2.6 -1.5 -0.1\n",
      "  0.9  1.1  2.4 -1.  -1.1 -0.7 -0.8  3.7  1.2 -0.5 -2.   1.9  3.5  0.6\n",
      "  3.1  2.3  3.4  3.6  4.2  3.2  5.6  3.8  2.9  6.2  4.4]\n",
      "ST_Slope   ['Up' 'Flat' 'Down']\n",
      "HeartDisease   [0 1]\n"
     ]
    }
   ],
   "source": [
    "col = list(df.columns)\n",
    "for i in col:\n",
    "    print(i,\" \", df['%s' %i].unique())"
   ]
  },
  {
   "cell_type": "code",
   "execution_count": 8,
   "id": "88ee7599-5138-4322-8346-14d9c4a5d70d",
   "metadata": {},
   "outputs": [
    {
     "data": {
      "text/html": [
       "<div>\n",
       "<style scoped>\n",
       "    .dataframe tbody tr th:only-of-type {\n",
       "        vertical-align: middle;\n",
       "    }\n",
       "\n",
       "    .dataframe tbody tr th {\n",
       "        vertical-align: top;\n",
       "    }\n",
       "\n",
       "    .dataframe thead th {\n",
       "        text-align: right;\n",
       "    }\n",
       "</style>\n",
       "<table border=\"1\" class=\"dataframe\">\n",
       "  <thead>\n",
       "    <tr style=\"text-align: right;\">\n",
       "      <th></th>\n",
       "      <th>Age</th>\n",
       "      <th>Sex</th>\n",
       "      <th>ChestPainType</th>\n",
       "      <th>RestingBP</th>\n",
       "      <th>Cholesterol</th>\n",
       "      <th>FastingBS</th>\n",
       "      <th>RestingECG</th>\n",
       "      <th>MaxHR</th>\n",
       "      <th>ExerciseAngina</th>\n",
       "      <th>Oldpeak</th>\n",
       "      <th>ST_Slope</th>\n",
       "      <th>HeartDisease</th>\n",
       "    </tr>\n",
       "  </thead>\n",
       "  <tbody>\n",
       "    <tr>\n",
       "      <th>0</th>\n",
       "      <td>40</td>\n",
       "      <td>1</td>\n",
       "      <td>0</td>\n",
       "      <td>140</td>\n",
       "      <td>289</td>\n",
       "      <td>0</td>\n",
       "      <td>0</td>\n",
       "      <td>172</td>\n",
       "      <td>0</td>\n",
       "      <td>0.0</td>\n",
       "      <td>0</td>\n",
       "      <td>0</td>\n",
       "    </tr>\n",
       "    <tr>\n",
       "      <th>1</th>\n",
       "      <td>49</td>\n",
       "      <td>0</td>\n",
       "      <td>1</td>\n",
       "      <td>160</td>\n",
       "      <td>180</td>\n",
       "      <td>0</td>\n",
       "      <td>0</td>\n",
       "      <td>156</td>\n",
       "      <td>0</td>\n",
       "      <td>1.0</td>\n",
       "      <td>1</td>\n",
       "      <td>1</td>\n",
       "    </tr>\n",
       "    <tr>\n",
       "      <th>2</th>\n",
       "      <td>37</td>\n",
       "      <td>1</td>\n",
       "      <td>0</td>\n",
       "      <td>130</td>\n",
       "      <td>283</td>\n",
       "      <td>0</td>\n",
       "      <td>1</td>\n",
       "      <td>98</td>\n",
       "      <td>0</td>\n",
       "      <td>0.0</td>\n",
       "      <td>0</td>\n",
       "      <td>0</td>\n",
       "    </tr>\n",
       "    <tr>\n",
       "      <th>3</th>\n",
       "      <td>48</td>\n",
       "      <td>0</td>\n",
       "      <td>2</td>\n",
       "      <td>138</td>\n",
       "      <td>214</td>\n",
       "      <td>0</td>\n",
       "      <td>0</td>\n",
       "      <td>108</td>\n",
       "      <td>1</td>\n",
       "      <td>1.5</td>\n",
       "      <td>1</td>\n",
       "      <td>1</td>\n",
       "    </tr>\n",
       "    <tr>\n",
       "      <th>4</th>\n",
       "      <td>54</td>\n",
       "      <td>1</td>\n",
       "      <td>1</td>\n",
       "      <td>150</td>\n",
       "      <td>195</td>\n",
       "      <td>0</td>\n",
       "      <td>0</td>\n",
       "      <td>122</td>\n",
       "      <td>0</td>\n",
       "      <td>0.0</td>\n",
       "      <td>0</td>\n",
       "      <td>0</td>\n",
       "    </tr>\n",
       "  </tbody>\n",
       "</table>\n",
       "</div>"
      ],
      "text/plain": [
       "   Age  Sex  ChestPainType  RestingBP  Cholesterol  FastingBS  RestingECG  \\\n",
       "0   40    1              0        140          289          0           0   \n",
       "1   49    0              1        160          180          0           0   \n",
       "2   37    1              0        130          283          0           1   \n",
       "3   48    0              2        138          214          0           0   \n",
       "4   54    1              1        150          195          0           0   \n",
       "\n",
       "   MaxHR  ExerciseAngina  Oldpeak  ST_Slope  HeartDisease  \n",
       "0    172               0      0.0         0             0  \n",
       "1    156               0      1.0         1             1  \n",
       "2     98               0      0.0         0             0  \n",
       "3    108               1      1.5         1             1  \n",
       "4    122               0      0.0         0             0  "
      ]
     },
     "execution_count": 8,
     "metadata": {},
     "output_type": "execute_result"
    }
   ],
   "source": [
    "df.Sex= df.Sex.map(dict(M=1, F=0))\n",
    "df.ChestPainType = df.ChestPainType.map({'ATA':0, 'NAP':1, 'ASY':2, 'TA':3})\n",
    "df.RestingECG = df.RestingECG.map({'Normal':0, 'ST':1, 'LVH':2})\n",
    "df.ExerciseAngina = df.ExerciseAngina.map({'Y':1, 'N':0})\n",
    "df.ST_Slope = df.ST_Slope.map({'Up':0, 'Flat':1, 'Down':2})\n",
    "\n",
    "df.head()"
   ]
  },
  {
   "cell_type": "code",
   "execution_count": 9,
   "id": "b6f55d98-a8ab-4dca-a7de-a0b7c43460e0",
   "metadata": {},
   "outputs": [
    {
     "data": {
      "text/html": [
       "<div>\n",
       "<style scoped>\n",
       "    .dataframe tbody tr th:only-of-type {\n",
       "        vertical-align: middle;\n",
       "    }\n",
       "\n",
       "    .dataframe tbody tr th {\n",
       "        vertical-align: top;\n",
       "    }\n",
       "\n",
       "    .dataframe thead th {\n",
       "        text-align: right;\n",
       "    }\n",
       "</style>\n",
       "<table border=\"1\" class=\"dataframe\">\n",
       "  <thead>\n",
       "    <tr style=\"text-align: right;\">\n",
       "      <th></th>\n",
       "      <th>count</th>\n",
       "      <th>mean</th>\n",
       "      <th>std</th>\n",
       "      <th>min</th>\n",
       "      <th>25%</th>\n",
       "      <th>50%</th>\n",
       "      <th>75%</th>\n",
       "      <th>max</th>\n",
       "    </tr>\n",
       "  </thead>\n",
       "  <tbody>\n",
       "    <tr>\n",
       "      <th>Age</th>\n",
       "      <td>918.0</td>\n",
       "      <td>53.510893</td>\n",
       "      <td>9.432617</td>\n",
       "      <td>28.0</td>\n",
       "      <td>47.00</td>\n",
       "      <td>54.0</td>\n",
       "      <td>60.0</td>\n",
       "      <td>77.0</td>\n",
       "    </tr>\n",
       "    <tr>\n",
       "      <th>Sex</th>\n",
       "      <td>918.0</td>\n",
       "      <td>0.789760</td>\n",
       "      <td>0.407701</td>\n",
       "      <td>0.0</td>\n",
       "      <td>1.00</td>\n",
       "      <td>1.0</td>\n",
       "      <td>1.0</td>\n",
       "      <td>1.0</td>\n",
       "    </tr>\n",
       "    <tr>\n",
       "      <th>ChestPainType</th>\n",
       "      <td>918.0</td>\n",
       "      <td>1.452070</td>\n",
       "      <td>0.851832</td>\n",
       "      <td>0.0</td>\n",
       "      <td>1.00</td>\n",
       "      <td>2.0</td>\n",
       "      <td>2.0</td>\n",
       "      <td>3.0</td>\n",
       "    </tr>\n",
       "    <tr>\n",
       "      <th>RestingBP</th>\n",
       "      <td>918.0</td>\n",
       "      <td>132.396514</td>\n",
       "      <td>18.514154</td>\n",
       "      <td>0.0</td>\n",
       "      <td>120.00</td>\n",
       "      <td>130.0</td>\n",
       "      <td>140.0</td>\n",
       "      <td>200.0</td>\n",
       "    </tr>\n",
       "    <tr>\n",
       "      <th>Cholesterol</th>\n",
       "      <td>918.0</td>\n",
       "      <td>198.799564</td>\n",
       "      <td>109.384145</td>\n",
       "      <td>0.0</td>\n",
       "      <td>173.25</td>\n",
       "      <td>223.0</td>\n",
       "      <td>267.0</td>\n",
       "      <td>603.0</td>\n",
       "    </tr>\n",
       "    <tr>\n",
       "      <th>FastingBS</th>\n",
       "      <td>918.0</td>\n",
       "      <td>0.233115</td>\n",
       "      <td>0.423046</td>\n",
       "      <td>0.0</td>\n",
       "      <td>0.00</td>\n",
       "      <td>0.0</td>\n",
       "      <td>0.0</td>\n",
       "      <td>1.0</td>\n",
       "    </tr>\n",
       "    <tr>\n",
       "      <th>RestingECG</th>\n",
       "      <td>918.0</td>\n",
       "      <td>0.603486</td>\n",
       "      <td>0.805968</td>\n",
       "      <td>0.0</td>\n",
       "      <td>0.00</td>\n",
       "      <td>0.0</td>\n",
       "      <td>1.0</td>\n",
       "      <td>2.0</td>\n",
       "    </tr>\n",
       "    <tr>\n",
       "      <th>MaxHR</th>\n",
       "      <td>918.0</td>\n",
       "      <td>136.809368</td>\n",
       "      <td>25.460334</td>\n",
       "      <td>60.0</td>\n",
       "      <td>120.00</td>\n",
       "      <td>138.0</td>\n",
       "      <td>156.0</td>\n",
       "      <td>202.0</td>\n",
       "    </tr>\n",
       "    <tr>\n",
       "      <th>ExerciseAngina</th>\n",
       "      <td>918.0</td>\n",
       "      <td>0.404139</td>\n",
       "      <td>0.490992</td>\n",
       "      <td>0.0</td>\n",
       "      <td>0.00</td>\n",
       "      <td>0.0</td>\n",
       "      <td>1.0</td>\n",
       "      <td>1.0</td>\n",
       "    </tr>\n",
       "    <tr>\n",
       "      <th>Oldpeak</th>\n",
       "      <td>918.0</td>\n",
       "      <td>0.887364</td>\n",
       "      <td>1.066570</td>\n",
       "      <td>-2.6</td>\n",
       "      <td>0.00</td>\n",
       "      <td>0.6</td>\n",
       "      <td>1.5</td>\n",
       "      <td>6.2</td>\n",
       "    </tr>\n",
       "    <tr>\n",
       "      <th>ST_Slope</th>\n",
       "      <td>918.0</td>\n",
       "      <td>0.638344</td>\n",
       "      <td>0.607056</td>\n",
       "      <td>0.0</td>\n",
       "      <td>0.00</td>\n",
       "      <td>1.0</td>\n",
       "      <td>1.0</td>\n",
       "      <td>2.0</td>\n",
       "    </tr>\n",
       "    <tr>\n",
       "      <th>HeartDisease</th>\n",
       "      <td>918.0</td>\n",
       "      <td>0.553377</td>\n",
       "      <td>0.497414</td>\n",
       "      <td>0.0</td>\n",
       "      <td>0.00</td>\n",
       "      <td>1.0</td>\n",
       "      <td>1.0</td>\n",
       "      <td>1.0</td>\n",
       "    </tr>\n",
       "  </tbody>\n",
       "</table>\n",
       "</div>"
      ],
      "text/plain": [
       "                count        mean         std   min     25%    50%    75%  \\\n",
       "Age             918.0   53.510893    9.432617  28.0   47.00   54.0   60.0   \n",
       "Sex             918.0    0.789760    0.407701   0.0    1.00    1.0    1.0   \n",
       "ChestPainType   918.0    1.452070    0.851832   0.0    1.00    2.0    2.0   \n",
       "RestingBP       918.0  132.396514   18.514154   0.0  120.00  130.0  140.0   \n",
       "Cholesterol     918.0  198.799564  109.384145   0.0  173.25  223.0  267.0   \n",
       "FastingBS       918.0    0.233115    0.423046   0.0    0.00    0.0    0.0   \n",
       "RestingECG      918.0    0.603486    0.805968   0.0    0.00    0.0    1.0   \n",
       "MaxHR           918.0  136.809368   25.460334  60.0  120.00  138.0  156.0   \n",
       "ExerciseAngina  918.0    0.404139    0.490992   0.0    0.00    0.0    1.0   \n",
       "Oldpeak         918.0    0.887364    1.066570  -2.6    0.00    0.6    1.5   \n",
       "ST_Slope        918.0    0.638344    0.607056   0.0    0.00    1.0    1.0   \n",
       "HeartDisease    918.0    0.553377    0.497414   0.0    0.00    1.0    1.0   \n",
       "\n",
       "                  max  \n",
       "Age              77.0  \n",
       "Sex               1.0  \n",
       "ChestPainType     3.0  \n",
       "RestingBP       200.0  \n",
       "Cholesterol     603.0  \n",
       "FastingBS         1.0  \n",
       "RestingECG        2.0  \n",
       "MaxHR           202.0  \n",
       "ExerciseAngina    1.0  \n",
       "Oldpeak           6.2  \n",
       "ST_Slope          2.0  \n",
       "HeartDisease      1.0  "
      ]
     },
     "execution_count": 9,
     "metadata": {},
     "output_type": "execute_result"
    }
   ],
   "source": [
    "df.describe().transpose()"
   ]
  },
  {
   "cell_type": "code",
   "execution_count": 10,
   "id": "9e1eba32-d01b-4528-89b6-e2d8cce0605b",
   "metadata": {},
   "outputs": [
    {
     "data": {
      "text/plain": [
       "1    0.553377\n",
       "0    0.446623\n",
       "Name: HeartDisease, dtype: float64"
      ]
     },
     "execution_count": 10,
     "metadata": {},
     "output_type": "execute_result"
    }
   ],
   "source": [
    "df.iloc[:,-1].value_counts()/len(df)"
   ]
  },
  {
   "cell_type": "markdown",
   "id": "e87c22da-3afc-4e44-807f-8ff45bd2370c",
   "metadata": {},
   "source": [
    "as the outputfile fairly close number of classifiation values we can consider as balanced dataset"
   ]
  },
  {
   "cell_type": "code",
   "execution_count": 11,
   "id": "c21122f4-fdfe-4ac1-a7ad-249ca0ce7838",
   "metadata": {},
   "outputs": [
    {
     "data": {
      "image/png": "[encoded data removed]",
      "text/plain": [
       "<Figure size 720x504 with 2 Axes>"
      ]
     },
     "metadata": {
      "needs_background": "light"
     },
     "output_type": "display_data"
    },
    {
     "data": {
      "text/plain": [
       "<Figure size 432x288 with 0 Axes>"
      ]
     },
     "metadata": {},
     "output_type": "display_data"
    }
   ],
   "source": [
    "# To identify the co-relation between the dataset\n",
    "plt.figure(figsize=(10, 7))\n",
    "sns.heatmap(df.corr(), annot=True)\n",
    "# displaying heatmap\n",
    "plt.show()\n",
    "plt.savefig('co-relation')"
   ]
  },
  {
   "cell_type": "code",
   "execution_count": 12,
   "id": "8cf1038a-dd0f-4797-bb8e-0f1a3a2eec4b",
   "metadata": {},
   "outputs": [],
   "source": [
    "def ploting(x):\n",
    "  sns.distplot(df[x], color = 'r').set_title(\"Distribution Plot\")\n",
    "  plt.show()\n",
    "  sns.violinplot(x = df[x], palette = 'Accent', split = True).set_title(\"Violin Plot\")\n",
    "  plt.show()\n",
    "  sns.boxplot(x=df[x], palette = 'cool', width=0.7, linewidth=0.6).set_title(\"Box Plot\")\n",
    "  plt.show()\n",
    "  sns.kdeplot(df[x], cumulative=True).set_title(\"KDE Plot\")\n",
    "  plt.show()\n",
    "  plt.figure(figsize=(4,8))\n",
    "  sns.boxplot(y = x, data = df, width=0.5,showmeans = True).set_title(\"Box Plot\")\n",
    "  plt.show()\n",
    "  print('mean of %s is %s' %(x,df[x].mean()))\n",
    "  print('median of %s is %s' %(x,df[x].median()))\n",
    "  print('skew of %s is %s' %(x,df[x].skew()))"
   ]
  },
  {
   "cell_type": "code",
   "execution_count": 13,
   "id": "6de8173a-b2d2-4691-b1ce-d9d596289ec0",
   "metadata": {},
   "outputs": [
    {
     "name": "stderr",
     "output_type": "stream",
     "text": [
      "/home/studio-lab-user/.conda/envs/default/lib/python3.9/site-packages/seaborn/distributions.py:2619: FutureWarning: `distplot` is a deprecated function and will be removed in a future version. Please adapt your code to use either `displot` (a figure-level function with similar flexibility) or `histplot` (an axes-level function for histograms).\n",
      "  warnings.warn(msg, FutureWarning)\n"
     ]
    },
    {
     "data": {
      "image/png": "[encoded data removed]",
      "text/plain": [
       "<Figure size 432x288 with 1 Axes>"
      ]
     },
     "metadata": {
      "needs_background": "light"
     },
     "output_type": "display_data"
    },
    {
     "data": {
      "image/png": "[encoded data removed]",
      "text/plain": [
       "<Figure size 432x288 with 1 Axes>"
      ]
     },
     "metadata": {
      "needs_background": "light"
     },
     "output_type": "display_data"
    },
    {
     "data": {
      "image/png": "[encoded data removed]",
      "text/plain": [
       "<Figure size 432x288 with 1 Axes>"
      ]
     },
     "metadata": {
      "needs_background": "light"
     },
     "output_type": "display_data"
    },
    {
     "data": {
      "image/png": "[encoded data removed]",
      "text/plain": [
       "<Figure size 432x288 with 1 Axes>"
      ]
     },
     "metadata": {
      "needs_background": "light"
     },
     "output_type": "display_data"
    },
    {
     "data": {
      "image/png": "[encoded data removed]",
      "text/plain": [
       "<Figure size 288x576 with 1 Axes>"
      ]
     },
     "metadata": {
      "needs_background": "light"
     },
     "output_type": "display_data"
    },
    {
     "name": "stdout",
     "output_type": "stream",
     "text": [
      "mean of Age is 53.510893246187365\n",
      "median of Age is 54.0\n",
      "skew of Age is -0.19593302867569365\n"
     ]
    }
   ],
   "source": [
    "ploting('Age')"
   ]
  },
  {
   "cell_type": "markdown",
   "id": "7f26140e-3677-4234-b828-7324517d3c96",
   "metadata": {},
   "source": [
    "Age Column is perfectly distributed"
   ]
  },
  {
   "cell_type": "code",
   "execution_count": 14,
   "id": "a9163adc-4f0b-4a70-84de-6f4e64e02458",
   "metadata": {},
   "outputs": [
    {
     "data": {
      "text/plain": [
       "'for col in df.columns:\\n  Q1 = np.percentile(df[col], 25,interpolation = \\'midpoint\\')\\n  Q3 = np.percentile(df[col], 75,interpolation = \\'midpoint\\')\\n  IQR = Q3 - Q1\\n  # Upper bound\\n  upper = np.where(df[col] >= (Q3+1.5*IQR))\\n  # Lower bound\\n  lower = np.where(df[col] <= (Q1-1.5*IQR))\\n  print(\\'for column\\',col)\\n  try:\\n    # Removing the Outliers\\n    df.drop(upper[0], inplace = True)\\n    df.drop(lower[0], inplace = True)\\n  except:\\n    print(\"No upper or lower outliers\")'"
      ]
     },
     "execution_count": 14,
     "metadata": {},
     "output_type": "execute_result"
    }
   ],
   "source": [
    "'''for col in df.columns:\n",
    "  Q1 = np.percentile(df[col], 25,interpolation = 'midpoint')\n",
    "  Q3 = np.percentile(df[col], 75,interpolation = 'midpoint')\n",
    "  IQR = Q3 - Q1\n",
    "  # Upper bound\n",
    "  upper = np.where(df[col] >= (Q3+1.5*IQR))\n",
    "  # Lower bound\n",
    "  lower = np.where(df[col] <= (Q1-1.5*IQR))\n",
    "  print('for column',col)\n",
    "  try:\n",
    "    # Removing the Outliers\n",
    "    df.drop(upper[0], inplace = True)\n",
    "    df.drop(lower[0], inplace = True)\n",
    "  except:\n",
    "    print(\"No upper or lower outliers\")'''"
   ]
  },
  {
   "cell_type": "code",
   "execution_count": 15,
   "id": "d7d39931-de57-45d9-be6f-9459d993a1f4",
   "metadata": {},
   "outputs": [
    {
     "data": {
      "text/html": [
       "<div>\n",
       "<style scoped>\n",
       "    .dataframe tbody tr th:only-of-type {\n",
       "        vertical-align: middle;\n",
       "    }\n",
       "\n",
       "    .dataframe tbody tr th {\n",
       "        vertical-align: top;\n",
       "    }\n",
       "\n",
       "    .dataframe thead th {\n",
       "        text-align: right;\n",
       "    }\n",
       "</style>\n",
       "<table border=\"1\" class=\"dataframe\">\n",
       "  <thead>\n",
       "    <tr style=\"text-align: right;\">\n",
       "      <th></th>\n",
       "      <th>Age</th>\n",
       "      <th>Sex</th>\n",
       "      <th>ChestPainType</th>\n",
       "      <th>RestingBP</th>\n",
       "      <th>Cholesterol</th>\n",
       "      <th>FastingBS</th>\n",
       "      <th>RestingECG</th>\n",
       "      <th>MaxHR</th>\n",
       "      <th>ExerciseAngina</th>\n",
       "      <th>Oldpeak</th>\n",
       "      <th>ST_Slope</th>\n",
       "      <th>HeartDisease</th>\n",
       "    </tr>\n",
       "  </thead>\n",
       "  <tbody>\n",
       "    <tr>\n",
       "      <th>0</th>\n",
       "      <td>40</td>\n",
       "      <td>1</td>\n",
       "      <td>0</td>\n",
       "      <td>140</td>\n",
       "      <td>289</td>\n",
       "      <td>0</td>\n",
       "      <td>0</td>\n",
       "      <td>172</td>\n",
       "      <td>0</td>\n",
       "      <td>0.0</td>\n",
       "      <td>0</td>\n",
       "      <td>0</td>\n",
       "    </tr>\n",
       "    <tr>\n",
       "      <th>1</th>\n",
       "      <td>49</td>\n",
       "      <td>0</td>\n",
       "      <td>1</td>\n",
       "      <td>160</td>\n",
       "      <td>180</td>\n",
       "      <td>0</td>\n",
       "      <td>0</td>\n",
       "      <td>156</td>\n",
       "      <td>0</td>\n",
       "      <td>1.0</td>\n",
       "      <td>1</td>\n",
       "      <td>1</td>\n",
       "    </tr>\n",
       "    <tr>\n",
       "      <th>2</th>\n",
       "      <td>37</td>\n",
       "      <td>1</td>\n",
       "      <td>0</td>\n",
       "      <td>130</td>\n",
       "      <td>283</td>\n",
       "      <td>0</td>\n",
       "      <td>1</td>\n",
       "      <td>98</td>\n",
       "      <td>0</td>\n",
       "      <td>0.0</td>\n",
       "      <td>0</td>\n",
       "      <td>0</td>\n",
       "    </tr>\n",
       "    <tr>\n",
       "      <th>3</th>\n",
       "      <td>48</td>\n",
       "      <td>0</td>\n",
       "      <td>2</td>\n",
       "      <td>138</td>\n",
       "      <td>214</td>\n",
       "      <td>0</td>\n",
       "      <td>0</td>\n",
       "      <td>108</td>\n",
       "      <td>1</td>\n",
       "      <td>1.5</td>\n",
       "      <td>1</td>\n",
       "      <td>1</td>\n",
       "    </tr>\n",
       "    <tr>\n",
       "      <th>4</th>\n",
       "      <td>54</td>\n",
       "      <td>1</td>\n",
       "      <td>1</td>\n",
       "      <td>150</td>\n",
       "      <td>195</td>\n",
       "      <td>0</td>\n",
       "      <td>0</td>\n",
       "      <td>122</td>\n",
       "      <td>0</td>\n",
       "      <td>0.0</td>\n",
       "      <td>0</td>\n",
       "      <td>0</td>\n",
       "    </tr>\n",
       "  </tbody>\n",
       "</table>\n",
       "</div>"
      ],
      "text/plain": [
       "   Age  Sex  ChestPainType  RestingBP  Cholesterol  FastingBS  RestingECG  \\\n",
       "0   40    1              0        140          289          0           0   \n",
       "1   49    0              1        160          180          0           0   \n",
       "2   37    1              0        130          283          0           1   \n",
       "3   48    0              2        138          214          0           0   \n",
       "4   54    1              1        150          195          0           0   \n",
       "\n",
       "   MaxHR  ExerciseAngina  Oldpeak  ST_Slope  HeartDisease  \n",
       "0    172               0      0.0         0             0  \n",
       "1    156               0      1.0         1             1  \n",
       "2     98               0      0.0         0             0  \n",
       "3    108               1      1.5         1             1  \n",
       "4    122               0      0.0         0             0  "
      ]
     },
     "execution_count": 15,
     "metadata": {},
     "output_type": "execute_result"
    }
   ],
   "source": [
    "df.head()"
   ]
  },
  {
   "cell_type": "code",
   "execution_count": 16,
   "id": "2ee3fa0d-10a3-4689-8871-3feadb4c4eb0",
   "metadata": {},
   "outputs": [
    {
     "data": {
      "text/plain": [
       "(918, 12)"
      ]
     },
     "execution_count": 16,
     "metadata": {},
     "output_type": "execute_result"
    }
   ],
   "source": [
    "df.shape"
   ]
  },
  {
   "cell_type": "code",
   "execution_count": 17,
   "id": "94eae4c3-2eae-46ff-a769-5931dfa484db",
   "metadata": {},
   "outputs": [
    {
     "name": "stdout",
     "output_type": "stream",
     "text": [
      "(918, 11)\n",
      "(918,)\n"
     ]
    }
   ],
   "source": [
    "X=df.iloc[:,:-1]\n",
    "y=df.iloc[:,-1]\n",
    "print(X.shape)\n",
    "print(y.shape)"
   ]
  },
  {
   "cell_type": "code",
   "execution_count": 18,
   "id": "45ff3a80-e09a-4b20-8648-51692d6bdcab",
   "metadata": {},
   "outputs": [],
   "source": [
    "from sklearn.model_selection import train_test_split\n",
    "X_train, X_test, y_train, y_test = train_test_split(X, y, test_size=0.2, random_state=100)"
   ]
  },
  {
   "cell_type": "code",
   "execution_count": 19,
   "id": "a75cfc1c-7008-45ab-a3af-e2afb30e31ac",
   "metadata": {},
   "outputs": [],
   "source": [
    "# Algorithms\n",
    "from sklearn import linear_model\n",
    "from sklearn.linear_model import LogisticRegression\n",
    "from sklearn.ensemble import RandomForestClassifier\n",
    "from sklearn.linear_model import Perceptron\n",
    "from sklearn.linear_model import SGDClassifier\n",
    "from sklearn.tree import DecisionTreeClassifier as dtc\n",
    "from sklearn.neighbors import KNeighborsClassifier as knc\n",
    "from sklearn.svm import SVC, LinearSVC\n",
    "from sklearn.naive_bayes import GaussianNB\n",
    "from sklearn import preprocessing\n",
    "from sklearn import metrics"
   ]
  },
  {
   "cell_type": "code",
   "execution_count": 20,
   "id": "c7e6e6cc-aea8-462f-a81d-289a95b0ad55",
   "metadata": {},
   "outputs": [],
   "source": [
    "def logReg():\n",
    "    lr = LogisticRegression()\n",
    "    lr.fit(X_train,y_train)\n",
    "    y_pred = lr.predict(X_test)\n",
    "    print('===================Logistic Regression===================')\n",
    "    cm = metrics.confusion_matrix(y_test,y_pred)\n",
    "    print('Confusion matrics for Logistic regression is\\n',cm)\n",
    "    acc = metrics.accuracy_score(y_test,y_pred)*100\n",
    "    print('Accuracy for Logistic regression is\\n',acc)"
   ]
  },
  {
   "cell_type": "code",
   "execution_count": 21,
   "id": "12d93fa9-5906-40da-bda2-23036fab2b66",
   "metadata": {},
   "outputs": [],
   "source": [
    "def navyBais():\n",
    "    nb = GaussianNB().fit(X_train,y_train)\n",
    "    y_pred = nb.predict(X_test)\n",
    "    print('===================Navie Bayes===================')\n",
    "    cm = metrics.confusion_matrix(y_test,y_pred)\n",
    "    print('Confusion matrics for Navie Bayes is\\n',cm)\n",
    "    acc = metrics.accuracy_score(y_test,y_pred)*100\n",
    "    print('Accuracy for Navie Bayes is\\n',acc)"
   ]
  },
  {
   "cell_type": "code",
   "execution_count": 22,
   "id": "62a8b889-3329-41d4-800e-3b35a6d7ab5c",
   "metadata": {},
   "outputs": [
    {
     "name": "stdout",
     "output_type": "stream",
     "text": [
      "Accuracy for  1  is\n",
      " 69.02173913043478\n",
      "Accuracy for  2  is\n",
      " 65.21739130434783\n",
      "Accuracy for  3  is\n",
      " 70.1086956521739\n",
      "Accuracy for  4  is\n",
      " 70.1086956521739\n",
      "Accuracy for  5  is\n",
      " 71.73913043478261\n",
      "Accuracy for  6  is\n",
      " 72.28260869565217\n",
      "Accuracy for  7  is\n",
      " 71.73913043478261\n",
      "Accuracy for  8  is\n",
      " 73.36956521739131\n",
      "Accuracy for  9  is\n",
      " 76.08695652173914\n"
     ]
    }
   ],
   "source": [
    "for i in range(1,10):\n",
    "    #knn = knc(n_neighbors=2,metric = 'euclidean')\n",
    "    knn = knc(n_neighbors=i,metric = 'manhattan')\n",
    "    knn.fit(X_train,y_train)\n",
    "    y_pred = knn.predict(X_test)\n",
    "    acc = metrics.accuracy_score(y_test,y_pred)*100\n",
    "    print('Accuracy for ',i,' is\\n',acc)"
   ]
  },
  {
   "cell_type": "code",
   "execution_count": 23,
   "id": "78c4ee40-a52e-4b50-a066-79aa24fa3adf",
   "metadata": {},
   "outputs": [
    {
     "name": "stdout",
     "output_type": "stream",
     "text": [
      "Accuracy for  1  is\n",
      " 63.04347826086957\n",
      "Accuracy for  2  is\n",
      " 61.95652173913043\n",
      "Accuracy for  3  is\n",
      " 67.3913043478261\n",
      "Accuracy for  4  is\n",
      " 69.02173913043478\n",
      "Accuracy for  5  is\n",
      " 69.02173913043478\n",
      "Accuracy for  6  is\n",
      " 69.02173913043478\n",
      "Accuracy for  7  is\n",
      " 67.3913043478261\n",
      "Accuracy for  8  is\n",
      " 65.21739130434783\n",
      "Accuracy for  9  is\n",
      " 68.47826086956522\n"
     ]
    }
   ],
   "source": [
    "for i in range(1,10):\n",
    "    knn = knc(n_neighbors=i,metric = 'euclidean')\n",
    "    #knn = knc(n_neighbors=i,metric = 'manhattan')\n",
    "    knn.fit(X_train,y_train)\n",
    "    y_pred = knn.predict(X_test)\n",
    "    acc = metrics.accuracy_score(y_test,y_pred)*100\n",
    "    print('Accuracy for ',i,' is\\n',acc)"
   ]
  },
  {
   "cell_type": "code",
   "execution_count": 24,
   "id": "d1383d85-92c8-4d7b-8713-f9befbbec206",
   "metadata": {},
   "outputs": [],
   "source": [
    "def knn():\n",
    "    knn = knc(n_neighbors=6,metric = 'euclidean')\n",
    "    #knn = knc(n_neighbors=1,metric = 'manhattan')\n",
    "    knn.fit(X_train,y_train)\n",
    "    y_pred = knn.predict(X_test)\n",
    "    print('===================KNN===================')\n",
    "    cm = metrics.confusion_matrix(y_test,y_pred)\n",
    "    print('Confusion matrics for KNN is\\n',cm)\n",
    "    acc = metrics.accuracy_score(y_test,y_pred)*100\n",
    "    print('Accuracy for KNN is\\n',acc)   "
   ]
  },
  {
   "cell_type": "code",
   "execution_count": 25,
   "id": "50527476-d92e-46f1-9149-e3f4fa5fb34c",
   "metadata": {},
   "outputs": [
    {
     "name": "stdout",
     "output_type": "stream",
     "text": [
      "Accuracy for 1 is\n",
      " 70.1086956521739\n",
      "Accuracy for 2 is\n",
      " 71.19565217391305\n",
      "Accuracy for 3 is\n",
      " 71.19565217391305\n",
      "Accuracy for 4 is\n",
      " 71.73913043478261\n",
      "Accuracy for 5 is\n",
      " 71.19565217391305\n",
      "Accuracy for 6 is\n",
      " 72.82608695652173\n",
      "Accuracy for 7 is\n",
      " 73.36956521739131\n",
      "Accuracy for 8 is\n",
      " 74.45652173913044\n",
      "Accuracy for 9 is\n",
      " 74.45652173913044\n"
     ]
    }
   ],
   "source": [
    "for i in range(1,10):\n",
    "    model = SVC(C=i)\n",
    "    model.fit(X_train,y_train)\n",
    "    y_pred = model.predict(X_test)\n",
    "    acc = metrics.accuracy_score(y_test,y_pred)*100\n",
    "    print('Accuracy for',i,'is\\n',acc)"
   ]
  },
  {
   "cell_type": "code",
   "execution_count": 27,
   "id": "f04f12f8-b573-4850-bb37-a67dcf76d207",
   "metadata": {},
   "outputs": [],
   "source": [
    "def svm():\n",
    "    model = SVC(C=8)\n",
    "    model.fit(X_train,y_train)\n",
    "    y_pred = model.predict(X_test)\n",
    "    print('===================SVM===================')\n",
    "    cm = metrics.confusion_matrix(y_test,y_pred)\n",
    "    print('Confusion matrics for SVM is\\n',cm)\n",
    "    acc = metrics.accuracy_score(y_test,y_pred)*100\n",
    "    print('Accuracy for SVM is\\n',acc)"
   ]
  },
  {
   "cell_type": "code",
   "execution_count": 28,
   "id": "f7c3e5cf-beb5-4094-934d-dc2b7674c10b",
   "metadata": {},
   "outputs": [
    {
     "name": "stdout",
     "output_type": "stream",
     "text": [
      "Accuracy for 1 is\n",
      " 78.80434782608695\n",
      "Accuracy for 2 is\n",
      " 80.97826086956522\n",
      "Accuracy for 3 is\n",
      " 82.6086956521739\n",
      "Accuracy for 4 is\n",
      " 85.86956521739131\n",
      "Accuracy for 5 is\n",
      " 85.32608695652173\n",
      "Accuracy for 6 is\n",
      " 83.69565217391305\n",
      "Accuracy for 7 is\n",
      " 82.6086956521739\n",
      "Accuracy for 8 is\n",
      " 81.52173913043478\n",
      "Accuracy for 9 is\n",
      " 81.52173913043478\n"
     ]
    }
   ],
   "source": [
    "for i in range(1,10):\n",
    "    #dtree = dtc(criterion = 'entropy',max_depth = 3)\n",
    "    dtree = dtc(criterion = 'gini',max_depth = i)\n",
    "    dtree.fit(X_train,y_train)\n",
    "    y_pred = dtree.predict(X_test)\n",
    "    acc = metrics.accuracy_score(y_test,y_pred)*100\n",
    "    print('Accuracy for',i,'is\\n',acc)"
   ]
  },
  {
   "cell_type": "code",
   "execution_count": 29,
   "id": "5f36f699-0cdc-4fb9-9a68-e877bb676653",
   "metadata": {},
   "outputs": [
    {
     "name": "stdout",
     "output_type": "stream",
     "text": [
      "Accuracy for 1 is\n",
      " 78.80434782608695\n",
      "Accuracy for 2 is\n",
      " 78.80434782608695\n",
      "Accuracy for 3 is\n",
      " 82.6086956521739\n",
      "Accuracy for 4 is\n",
      " 86.41304347826086\n",
      "Accuracy for 5 is\n",
      " 86.41304347826086\n",
      "Accuracy for 6 is\n",
      " 83.69565217391305\n",
      "Accuracy for 7 is\n",
      " 83.69565217391305\n",
      "Accuracy for 8 is\n",
      " 83.69565217391305\n",
      "Accuracy for 9 is\n",
      " 79.8913043478261\n"
     ]
    }
   ],
   "source": [
    "for i in range(1,10):\n",
    "    dtree = dtc(criterion = 'entropy',max_depth = i)\n",
    "    #dtree = dtc(criterion = 'gini',max_depth = i)\n",
    "    dtree.fit(X_train,y_train)\n",
    "    y_pred = dtree.predict(X_test)\n",
    "    acc = metrics.accuracy_score(y_test,y_pred)*100\n",
    "    print('Accuracy for',i,'is\\n',acc)"
   ]
  },
  {
   "cell_type": "code",
   "execution_count": 30,
   "id": "35abd52a-5313-48e4-b607-ed0381c7db79",
   "metadata": {},
   "outputs": [],
   "source": [
    "def dtree():\n",
    "    dtree = dtc(criterion = 'entropy',max_depth = 4)\n",
    "    #dtree = dtc(criterion = 'gini',max_depth = 2)\n",
    "    dtree.fit(X_train,y_train)\n",
    "    y_pred = dtree.predict(X_test)\n",
    "    print('===================Decision Tree===================')\n",
    "    cm = metrics.confusion_matrix(y_test,y_pred)\n",
    "    print('Confusion matrics for Decision Tree is\\n',cm)\n",
    "    acc = metrics.accuracy_score(y_test,y_pred)*100\n",
    "    print('Accuracy for Decision Tree is\\n',acc)"
   ]
  },
  {
   "cell_type": "code",
   "execution_count": 31,
   "id": "b6cbad3d-e298-4472-8193-2c97c834a17c",
   "metadata": {},
   "outputs": [
    {
     "name": "stderr",
     "output_type": "stream",
     "text": [
      "/home/studio-lab-user/.conda/envs/default/lib/python3.9/site-packages/sklearn/linear_model/_logistic.py:444: ConvergenceWarning: lbfgs failed to converge (status=1):\n",
      "STOP: TOTAL NO. of ITERATIONS REACHED LIMIT.\n",
      "\n",
      "Increase the number of iterations (max_iter) or scale the data as shown in:\n",
      "    https://scikit-learn.org/stable/modules/preprocessing.html\n",
      "Please also refer to the documentation for alternative solver options:\n",
      "    https://scikit-learn.org/stable/modules/linear_model.html#logistic-regression\n",
      "  n_iter_i = _check_optimize_result(\n"
     ]
    },
    {
     "name": "stdout",
     "output_type": "stream",
     "text": [
      "===================Logistic Regression===================\n",
      "Confusion matrics for Logistic regression is\n",
      " [[68 11]\n",
      " [15 90]]\n",
      "Accuracy for Logistic regression is\n",
      " 85.86956521739131\n",
      "===================Navie Bayes===================\n",
      "Confusion matrics for Navie Bayes is\n",
      " [[68 11]\n",
      " [17 88]]\n",
      "Accuracy for Navie Bayes is\n",
      " 84.78260869565217\n",
      "===================KNN===================\n",
      "Confusion matrics for KNN is\n",
      " [[62 17]\n",
      " [40 65]]\n",
      "Accuracy for KNN is\n",
      " 69.02173913043478\n",
      "===================SVM===================\n",
      "Confusion matrics for SVM is\n",
      " [[59 20]\n",
      " [27 78]]\n",
      "Accuracy for SVM is\n",
      " 74.45652173913044\n",
      "===================Decision Tree===================\n",
      "Confusion matrics for Decision Tree is\n",
      " [[62 17]\n",
      " [ 8 97]]\n",
      "Accuracy for Decision Tree is\n",
      " 86.41304347826086\n"
     ]
    }
   ],
   "source": [
    "def main():\n",
    "  logReg()\n",
    "  navyBais()\n",
    "  knn()\n",
    "  svm()\n",
    "  dtree()\n",
    "\n",
    "main()"
   ]
  },
  {
   "cell_type": "code",
   "execution_count": 33,
   "id": "15f3c14e-ebcb-421f-a6f6-f76a213989e3",
   "metadata": {},
   "outputs": [],
   "source": [
    "import joblib"
   ]
  },
  {
   "cell_type": "code",
   "execution_count": 34,
   "id": "83ce801d-0960-4116-ae32-dda55a8bc93a",
   "metadata": {},
   "outputs": [
    {
     "data": {
      "text/plain": [
       "['model']"
      ]
     },
     "execution_count": 34,
     "metadata": {},
     "output_type": "execute_result"
    }
   ],
   "source": [
    "dtree = dtc(criterion = 'entropy',max_depth = 4)\n",
    "dtree.fit(X_train,y_train)\n",
    "joblib.dump(dtree, 'model')"
   ]
  },
  {
   "cell_type": "code",
   "execution_count": 36,
   "id": "65d7e3a7-2f94-48f5-85e0-9150b2fc7a32",
   "metadata": {},
   "outputs": [
    {
     "data": {
      "text/html": [
       "<div>\n",
       "<style scoped>\n",
       "    .dataframe tbody tr th:only-of-type {\n",
       "        vertical-align: middle;\n",
       "    }\n",
       "\n",
       "    .dataframe tbody tr th {\n",
       "        vertical-align: top;\n",
       "    }\n",
       "\n",
       "    .dataframe thead th {\n",
       "        text-align: right;\n",
       "    }\n",
       "</style>\n",
       "<table border=\"1\" class=\"dataframe\">\n",
       "  <thead>\n",
       "    <tr style=\"text-align: right;\">\n",
       "      <th></th>\n",
       "      <th>Age</th>\n",
       "      <th>Sex</th>\n",
       "      <th>ChestPainType</th>\n",
       "      <th>RestingBP</th>\n",
       "      <th>Cholesterol</th>\n",
       "      <th>FastingBS</th>\n",
       "      <th>RestingECG</th>\n",
       "      <th>MaxHR</th>\n",
       "      <th>ExerciseAngina</th>\n",
       "      <th>Oldpeak</th>\n",
       "      <th>ST_Slope</th>\n",
       "      <th>HeartDisease</th>\n",
       "    </tr>\n",
       "  </thead>\n",
       "  <tbody>\n",
       "    <tr>\n",
       "      <th>0</th>\n",
       "      <td>40</td>\n",
       "      <td>1</td>\n",
       "      <td>0</td>\n",
       "      <td>140</td>\n",
       "      <td>289</td>\n",
       "      <td>0</td>\n",
       "      <td>0</td>\n",
       "      <td>172</td>\n",
       "      <td>0</td>\n",
       "      <td>0.0</td>\n",
       "      <td>0</td>\n",
       "      <td>0</td>\n",
       "    </tr>\n",
       "    <tr>\n",
       "      <th>1</th>\n",
       "      <td>49</td>\n",
       "      <td>0</td>\n",
       "      <td>1</td>\n",
       "      <td>160</td>\n",
       "      <td>180</td>\n",
       "      <td>0</td>\n",
       "      <td>0</td>\n",
       "      <td>156</td>\n",
       "      <td>0</td>\n",
       "      <td>1.0</td>\n",
       "      <td>1</td>\n",
       "      <td>1</td>\n",
       "    </tr>\n",
       "    <tr>\n",
       "      <th>2</th>\n",
       "      <td>37</td>\n",
       "      <td>1</td>\n",
       "      <td>0</td>\n",
       "      <td>130</td>\n",
       "      <td>283</td>\n",
       "      <td>0</td>\n",
       "      <td>1</td>\n",
       "      <td>98</td>\n",
       "      <td>0</td>\n",
       "      <td>0.0</td>\n",
       "      <td>0</td>\n",
       "      <td>0</td>\n",
       "    </tr>\n",
       "    <tr>\n",
       "      <th>3</th>\n",
       "      <td>48</td>\n",
       "      <td>0</td>\n",
       "      <td>2</td>\n",
       "      <td>138</td>\n",
       "      <td>214</td>\n",
       "      <td>0</td>\n",
       "      <td>0</td>\n",
       "      <td>108</td>\n",
       "      <td>1</td>\n",
       "      <td>1.5</td>\n",
       "      <td>1</td>\n",
       "      <td>1</td>\n",
       "    </tr>\n",
       "    <tr>\n",
       "      <th>4</th>\n",
       "      <td>54</td>\n",
       "      <td>1</td>\n",
       "      <td>1</td>\n",
       "      <td>150</td>\n",
       "      <td>195</td>\n",
       "      <td>0</td>\n",
       "      <td>0</td>\n",
       "      <td>122</td>\n",
       "      <td>0</td>\n",
       "      <td>0.0</td>\n",
       "      <td>0</td>\n",
       "      <td>0</td>\n",
       "    </tr>\n",
       "  </tbody>\n",
       "</table>\n",
       "</div>"
      ],
      "text/plain": [
       "   Age  Sex  ChestPainType  RestingBP  Cholesterol  FastingBS  RestingECG  \\\n",
       "0   40    1              0        140          289          0           0   \n",
       "1   49    0              1        160          180          0           0   \n",
       "2   37    1              0        130          283          0           1   \n",
       "3   48    0              2        138          214          0           0   \n",
       "4   54    1              1        150          195          0           0   \n",
       "\n",
       "   MaxHR  ExerciseAngina  Oldpeak  ST_Slope  HeartDisease  \n",
       "0    172               0      0.0         0             0  \n",
       "1    156               0      1.0         1             1  \n",
       "2     98               0      0.0         0             0  \n",
       "3    108               1      1.5         1             1  \n",
       "4    122               0      0.0         0             0  "
      ]
     },
     "execution_count": 36,
     "metadata": {},
     "output_type": "execute_result"
    }
   ],
   "source": [
    "df.head()"
   ]
  },
  {
   "cell_type": "code",
   "execution_count": 37,
   "id": "ae43c1e7-3ba9-4954-bb38-a676319113d4",
   "metadata": {},
   "outputs": [],
   "source": [
    "y=[[48,0,2,138,214,0,0,108,1,1.5,1]]\n",
    "n=[[37,1,0,130,283,0,1,98,0,0,0]]"
   ]
  },
  {
   "cell_type": "code",
   "execution_count": 39,
   "id": "860f6b77-3dd9-4d26-b608-5c107a43a7a4",
   "metadata": {},
   "outputs": [
    {
     "name": "stdout",
     "output_type": "stream",
     "text": [
      "No\n"
     ]
    },
    {
     "name": "stderr",
     "output_type": "stream",
     "text": [
      "/home/studio-lab-user/.conda/envs/default/lib/python3.9/site-packages/sklearn/base.py:450: UserWarning: X does not have valid feature names, but DecisionTreeClassifier was fitted with feature names\n",
      "  warnings.warn(\n"
     ]
    }
   ],
   "source": [
    "solve = joblib.load('model')\n",
    "res = solve.predict(n)\n",
    "if res == 0:\n",
    "    print('No')\n",
    "else:\n",
    "    print('Yes')"
   ]
  },
  {
   "cell_type": "code",
   "execution_count": null,
   "id": "36276f0b-12f8-4dcb-bcba-44592eb46ddc",
   "metadata": {},
   "outputs": [],
   "source": []
  }
 ],
 "metadata": {
  "kernelspec": {
   "display_name": "default:Python",
   "language": "python",
   "name": "conda-env-default-py"
  },
  "language_info": {
   "codemirror_mode": {
    "name": "ipython",
    "version": 3
   },
   "file_extension": ".py",
   "mimetype": "text/x-python",
   "name": "python",
   "nbconvert_exporter": "python",
   "pygments_lexer": "ipython3",
   "version": "3.9.13"
  }
 },
 "nbformat": 4,
 "nbformat_minor": 5
}
